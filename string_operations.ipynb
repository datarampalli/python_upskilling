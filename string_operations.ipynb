{
 "cells": [
  {
   "cell_type": "code",
   "execution_count": 1,
   "metadata": {},
   "outputs": [
    {
     "data": {
      "text/plain": [
       "'AMMA'"
      ]
     },
     "execution_count": 1,
     "metadata": {},
     "output_type": "execute_result"
    }
   ],
   "source": [
    "str2 = \"amma\"\n",
    "str2.upper()"
   ]
  },
  {
   "cell_type": "code",
   "execution_count": 6,
   "metadata": {},
   "outputs": [
    {
     "data": {
      "text/plain": [
       "'ayammma pitta'"
      ]
     },
     "execution_count": 6,
     "metadata": {},
     "output_type": "execute_result"
    }
   ],
   "source": [
    "# String concatenation\n",
    "str1 = \"ayammma\"\n",
    "str2 = \"pitta\"\n",
    "\n",
    "str1 + ' ' + str2\n",
    "\n"
   ]
  },
  {
   "cell_type": "code",
   "execution_count": 7,
   "metadata": {},
   "outputs": [
    {
     "data": {
      "text/plain": [
       "'moline is a great city'"
      ]
     },
     "execution_count": 7,
     "metadata": {},
     "output_type": "execute_result"
    }
   ],
   "source": [
    "str_upper = \"MOLINE IS A GREAT CITY\"\n",
    "str_upper.lower()"
   ]
  },
  {
   "cell_type": "code",
   "execution_count": 8,
   "metadata": {},
   "outputs": [
    {
     "data": {
      "text/plain": [
       "'Moline is a great city'"
      ]
     },
     "execution_count": 8,
     "metadata": {},
     "output_type": "execute_result"
    }
   ],
   "source": [
    "str_upper = \"MOLINE IS A GREAT CITY\"\n",
    "str_upper.capitalize()"
   ]
  },
  {
   "cell_type": "code",
   "execution_count": 16,
   "metadata": {},
   "outputs": [
    {
     "data": {
      "text/plain": [
       "'Chicago IS A GREAT CITY'"
      ]
     },
     "execution_count": 16,
     "metadata": {},
     "output_type": "execute_result"
    }
   ],
   "source": [
    "str_upper.replace(\"MOLINE\", \"Chicago\")"
   ]
  },
  {
   "cell_type": "code",
   "execution_count": 19,
   "metadata": {},
   "outputs": [
    {
     "data": {
      "text/plain": [
       "'Karimnagar is a clean city'"
      ]
     },
     "execution_count": 19,
     "metadata": {},
     "output_type": "execute_result"
    }
   ],
   "source": [
    "str_spaced = ' Karimnagar is a clean city '\n",
    "str_spaced.strip()"
   ]
  },
  {
   "cell_type": "code",
   "execution_count": 26,
   "metadata": {},
   "outputs": [
    {
     "name": "stdout",
     "output_type": "stream",
     "text": [
      "Hello Manoj!! how are you today?Have a wonderful morning\n"
     ]
    }
   ],
   "source": [
    "name = \"Manoj\"\n",
    "time_of_day = \"morning\"\n",
    "ip_Str = f\"Hello {name}!! how are you today?Have a wonderful {time_of_day}\"\n",
    "print(ip_Str)\n"
   ]
  },
  {
   "cell_type": "code",
   "execution_count": 28,
   "metadata": {},
   "outputs": [
    {
     "name": "stdout",
     "output_type": "stream",
     "text": [
      "How are you Brahmi?Have a nice morning\n",
      "How are you Brahmi?Have a nice evening\n",
      "How are you Brahmi?Have a nice night\n",
      "How are you Shiva?Have a nice morning\n",
      "How are you Shiva?Have a nice evening\n",
      "How are you Shiva?Have a nice night\n",
      "How are you Manoj?Have a nice morning\n",
      "How are you Manoj?Have a nice evening\n",
      "How are you Manoj?Have a nice night\n"
     ]
    }
   ],
   "source": [
    "list1 = [\"Brahmi\", \"Shiva\", \"Manoj\"]\n",
    "list2 = [\"morning\", \"evening\", \"night\"]\n",
    "for item in list1:\n",
    "    for item2 in list2:\n",
    "        print(f\"How are you {item}?Have a nice {item2}\")\n"
   ]
  },
  {
   "cell_type": "code",
   "execution_count": null,
   "metadata": {},
   "outputs": [],
   "source": []
  }
 ],
 "metadata": {
  "kernelspec": {
   "display_name": "Python 3",
   "language": "python",
   "name": "python3"
  },
  "language_info": {
   "codemirror_mode": {
    "name": "ipython",
    "version": 3
   },
   "file_extension": ".py",
   "mimetype": "text/x-python",
   "name": "python",
   "nbconvert_exporter": "python",
   "pygments_lexer": "ipython3",
   "version": "3.12.1"
  }
 },
 "nbformat": 4,
 "nbformat_minor": 2
}
